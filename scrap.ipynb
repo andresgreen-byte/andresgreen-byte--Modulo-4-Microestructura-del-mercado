{
 "cells": [
  {
   "cell_type": "code",
   "execution_count": 2,
   "id": "9eeaa833",
   "metadata": {},
   "outputs": [],
   "source": [
    "import ccxt\n",
    "import numpy as np\n",
    "import pandas as pd\n",
    "import time\n",
    "from datetime import datetime"
   ]
  },
  {
   "cell_type": "code",
   "execution_count": 3,
   "id": "53d3f2ff",
   "metadata": {},
   "outputs": [
    {
     "data": {
      "text/plain": [
       "{'Symbol': 'BTC/USDT',\n",
       " 'timestamp': '2022-04-28T20:15:34.000Z',\n",
       " 'Bid': [39743.83],\n",
       " 'Ask': [39779.11],\n",
       " 'Mid': [39761.47],\n",
       " 'Spread': [35.279999999998836]}"
      ]
     },
     "execution_count": 3,
     "metadata": {},
     "output_type": "execute_result"
    }
   ],
   "source": [
    "def bitso_btc(limit,symbol):\n",
    "    bitso=ccxt.bitso()\n",
    "    crypto = bitso.fetch_order_book(symbol,limit=limit)\n",
    "    bi_btc_ob_ask = pd.DataFrame(crypto['asks'],columns=['price','quantity'])\n",
    "    bi_btc_ob_bid = pd.DataFrame(crypto['bids'],columns=['price','quantity'])\n",
    "    bid = crypto['bids'][0][0] if len(crypto['bids']) > 0 else None\n",
    "    ask = crypto['asks'][0][0] if len(crypto['asks']) > 0 else None\n",
    "    spread = (ask - bid) if (ask and bid) else None\n",
    "    mid = (ask+bid)/2\n",
    "    d = {'Symbol':crypto['symbol'],'timestamp':crypto['datetime'],\n",
    "         'Bid': [bid],'Ask':[ask],'Mid':[mid],'Spread':[spread]}\n",
    "    return d\n",
    "obtest = get_ob_bitso(30,'BTC/USDT')\n",
    "obtest"
   ]
  },
  {
   "cell_type": "code",
   "execution_count": 9,
   "id": "9b80daab",
   "metadata": {},
   "outputs": [
    {
     "name": "stdout",
     "output_type": "stream",
     "text": [
      "     Symbol                 timestamp         Bid         Ask         Mid  \\\n",
      "0  BTC/USDT  2022-04-28T20:22:31.000Z  [39789.59]  [39829.01]   [39809.3]   \n",
      "1  BTC/USDT  2022-04-28T20:22:34.000Z  [39797.82]   [39838.6]  [39818.21]   \n",
      "2  BTC/USDT  2022-04-28T20:22:38.000Z  [39797.82]   [39838.6]  [39818.21]   \n",
      "\n",
      "                 Spread  \n",
      "0   [39.42000000000553]  \n",
      "1  [40.779999999998836]  \n",
      "2  [40.779999999998836]  \n"
     ]
    }
   ],
   "source": [
    "\n",
    "\n",
    "mylist1 = []\n",
    "for i in range(3):\n",
    "    x = get_ob_bitso(30,'BTC/USDT')\n",
    "    time.sleep(1)\n",
    "    mylist1.append(x)\n",
    "df1 = pd.DataFrame(mylist1)\n",
    "print(df1)\n",
    "    "
   ]
  },
  {
   "cell_type": "code",
   "execution_count": 69,
   "id": "b76cf7bc",
   "metadata": {},
   "outputs": [
    {
     "data": {
      "text/plain": [
       "'2022-04-28T12:37:49.000Z'"
      ]
     },
     "execution_count": 69,
     "metadata": {},
     "output_type": "execute_result"
    }
   ],
   "source": [
    "df1['timestamp'].iloc[0]"
   ]
  },
  {
   "cell_type": "code",
   "execution_count": 23,
   "id": "ecfd2f2b",
   "metadata": {},
   "outputs": [
    {
     "ename": "ValueError",
     "evalue": "Must pass 2-d input. shape=(5, 1, 6)",
     "output_type": "error",
     "traceback": [
      "\u001b[1;31m---------------------------------------------------------------------------\u001b[0m",
      "\u001b[1;31mValueError\u001b[0m                                Traceback (most recent call last)",
      "\u001b[1;32mC:\\Users\\ANDRES~1.GRE\\AppData\\Local\\Temp/ipykernel_17540/493783356.py\u001b[0m in \u001b[0;36m<module>\u001b[1;34m\u001b[0m\n\u001b[1;32m----> 1\u001b[1;33m \u001b[0mdf\u001b[0m \u001b[1;33m=\u001b[0m \u001b[0mpd\u001b[0m\u001b[1;33m.\u001b[0m\u001b[0mDataFrame\u001b[0m\u001b[1;33m(\u001b[0m\u001b[0mbtc_bitso\u001b[0m\u001b[1;33m)\u001b[0m\u001b[1;33m\u001b[0m\u001b[1;33m\u001b[0m\u001b[0m\n\u001b[0m\u001b[0;32m      2\u001b[0m \u001b[0mdf\u001b[0m\u001b[1;33m\u001b[0m\u001b[1;33m\u001b[0m\u001b[0m\n",
      "\u001b[1;32m~\\Anaconda3\\lib\\site-packages\\pandas\\core\\frame.py\u001b[0m in \u001b[0;36m__init__\u001b[1;34m(self, data, index, columns, dtype, copy)\u001b[0m\n\u001b[0;32m    709\u001b[0m                     )\n\u001b[0;32m    710\u001b[0m                 \u001b[1;32melse\u001b[0m\u001b[1;33m:\u001b[0m\u001b[1;33m\u001b[0m\u001b[1;33m\u001b[0m\u001b[0m\n\u001b[1;32m--> 711\u001b[1;33m                     mgr = ndarray_to_mgr(\n\u001b[0m\u001b[0;32m    712\u001b[0m                         \u001b[0mdata\u001b[0m\u001b[1;33m,\u001b[0m\u001b[1;33m\u001b[0m\u001b[1;33m\u001b[0m\u001b[0m\n\u001b[0;32m    713\u001b[0m                         \u001b[0mindex\u001b[0m\u001b[1;33m,\u001b[0m\u001b[1;33m\u001b[0m\u001b[1;33m\u001b[0m\u001b[0m\n",
      "\u001b[1;32m~\\Anaconda3\\lib\\site-packages\\pandas\\core\\internals\\construction.py\u001b[0m in \u001b[0;36mndarray_to_mgr\u001b[1;34m(values, index, columns, dtype, copy, typ)\u001b[0m\n\u001b[0;32m    302\u001b[0m         \u001b[1;31m# by definition an array here\u001b[0m\u001b[1;33m\u001b[0m\u001b[1;33m\u001b[0m\u001b[0m\n\u001b[0;32m    303\u001b[0m         \u001b[1;31m# the dtypes will be coerced to a single dtype\u001b[0m\u001b[1;33m\u001b[0m\u001b[1;33m\u001b[0m\u001b[0m\n\u001b[1;32m--> 304\u001b[1;33m         \u001b[0mvalues\u001b[0m \u001b[1;33m=\u001b[0m \u001b[0m_prep_ndarray\u001b[0m\u001b[1;33m(\u001b[0m\u001b[0mvalues\u001b[0m\u001b[1;33m,\u001b[0m \u001b[0mcopy\u001b[0m\u001b[1;33m=\u001b[0m\u001b[0mcopy\u001b[0m\u001b[1;33m)\u001b[0m\u001b[1;33m\u001b[0m\u001b[1;33m\u001b[0m\u001b[0m\n\u001b[0m\u001b[0;32m    305\u001b[0m \u001b[1;33m\u001b[0m\u001b[0m\n\u001b[0;32m    306\u001b[0m     \u001b[1;32mif\u001b[0m \u001b[0mdtype\u001b[0m \u001b[1;32mis\u001b[0m \u001b[1;32mnot\u001b[0m \u001b[1;32mNone\u001b[0m \u001b[1;32mand\u001b[0m \u001b[1;32mnot\u001b[0m \u001b[0mis_dtype_equal\u001b[0m\u001b[1;33m(\u001b[0m\u001b[0mvalues\u001b[0m\u001b[1;33m.\u001b[0m\u001b[0mdtype\u001b[0m\u001b[1;33m,\u001b[0m \u001b[0mdtype\u001b[0m\u001b[1;33m)\u001b[0m\u001b[1;33m:\u001b[0m\u001b[1;33m\u001b[0m\u001b[1;33m\u001b[0m\u001b[0m\n",
      "\u001b[1;32m~\\Anaconda3\\lib\\site-packages\\pandas\\core\\internals\\construction.py\u001b[0m in \u001b[0;36m_prep_ndarray\u001b[1;34m(values, copy)\u001b[0m\n\u001b[0;32m    553\u001b[0m         \u001b[0mvalues\u001b[0m \u001b[1;33m=\u001b[0m \u001b[0mvalues\u001b[0m\u001b[1;33m.\u001b[0m\u001b[0mreshape\u001b[0m\u001b[1;33m(\u001b[0m\u001b[1;33m(\u001b[0m\u001b[0mvalues\u001b[0m\u001b[1;33m.\u001b[0m\u001b[0mshape\u001b[0m\u001b[1;33m[\u001b[0m\u001b[1;36m0\u001b[0m\u001b[1;33m]\u001b[0m\u001b[1;33m,\u001b[0m \u001b[1;36m1\u001b[0m\u001b[1;33m)\u001b[0m\u001b[1;33m)\u001b[0m\u001b[1;33m\u001b[0m\u001b[1;33m\u001b[0m\u001b[0m\n\u001b[0;32m    554\u001b[0m     \u001b[1;32melif\u001b[0m \u001b[0mvalues\u001b[0m\u001b[1;33m.\u001b[0m\u001b[0mndim\u001b[0m \u001b[1;33m!=\u001b[0m \u001b[1;36m2\u001b[0m\u001b[1;33m:\u001b[0m\u001b[1;33m\u001b[0m\u001b[1;33m\u001b[0m\u001b[0m\n\u001b[1;32m--> 555\u001b[1;33m         \u001b[1;32mraise\u001b[0m \u001b[0mValueError\u001b[0m\u001b[1;33m(\u001b[0m\u001b[1;34mf\"Must pass 2-d input. shape={values.shape}\"\u001b[0m\u001b[1;33m)\u001b[0m\u001b[1;33m\u001b[0m\u001b[1;33m\u001b[0m\u001b[0m\n\u001b[0m\u001b[0;32m    556\u001b[0m \u001b[1;33m\u001b[0m\u001b[0m\n\u001b[0;32m    557\u001b[0m     \u001b[1;32mreturn\u001b[0m \u001b[0mvalues\u001b[0m\u001b[1;33m\u001b[0m\u001b[1;33m\u001b[0m\u001b[0m\n",
      "\u001b[1;31mValueError\u001b[0m: Must pass 2-d input. shape=(5, 1, 6)"
     ]
    }
   ],
   "source": [
    "df = pd.DataFrame(btc_bitso)\n",
    "df"
   ]
  },
  {
   "cell_type": "code",
   "execution_count": 2,
   "id": "5f99f5d6",
   "metadata": {},
   "outputs": [],
   "source": [
    "def get_ochlv(from_datime,timeframe,limit,symbol):\n",
    "    bitso=ccxt.bitso()\n",
    "    since = bitso.parse8601(from_datime)\n",
    "    ohlcv = pd.DataFrame(bitso.fetch_ohlcv(symbol, timeframe='1m', since=since, limit=100))\n",
    "    return ohlcv"
   ]
  },
  {
   "cell_type": "code",
   "execution_count": 5,
   "id": "557fad77",
   "metadata": {},
   "outputs": [
    {
     "data": {
      "text/plain": [
       "{'symbol': 'BTC/USDT',\n",
       " 'bids': [[39610.34, 1.0],\n",
       "  [39609.92, 5.0],\n",
       "  [39609.76, 3.0],\n",
       "  [39607.61, 10.0],\n",
       "  [39591.16, 10.0],\n",
       "  [38665.01, 0.0391672],\n",
       "  [38665.0, 0.1],\n",
       "  [38480.56, 0.00130871],\n",
       "  [38311.0, 0.25536843],\n",
       "  [38200.0, 0.00025314],\n",
       "  [38000.8, 0.00049844],\n",
       "  [37500.0, 0.05486605],\n",
       "  [37111.0, 0.00270027],\n",
       "  [37002.0, 0.00027187],\n",
       "  [37000.0, 0.23157],\n",
       "  [36976.42, 0.00056792],\n",
       "  [36521.72, 0.03285716],\n",
       "  [36400.0, 0.1],\n",
       "  [36123.0, 0.00134623],\n",
       "  [36050.0, 0.00110679],\n",
       "  [35532.56, 0.00417287],\n",
       "  [35500.0, 0.00087323],\n",
       "  [35039.14, 0.00342474],\n",
       "  [35000.01, 4.821e-05],\n",
       "  [35000.0, 0.12136057],\n",
       "  [34800.0, 0.51587126],\n",
       "  [34500.0, 0.00144956],\n",
       "  [33600.0, 0.00238095],\n",
       "  [32600.0, 0.01142607],\n",
       "  [32100.0, 0.00156105],\n",
       "  [32000.0, 0.13339187],\n",
       "  [31800.0, 0.00125786],\n",
       "  [31680.76, 0.00023229],\n",
       "  [31675.0, 3.188e-05],\n",
       "  [31500.0, 5.301e-05],\n",
       "  [31481.48, 1.621e-05],\n",
       "  [30200.01, 0.00350165],\n",
       "  [30200.0, 0.0665894],\n",
       "  [30100.0, 0.53844784],\n",
       "  [30050.0, 0.17970049],\n",
       "  [30000.0, 0.23941032],\n",
       "  [29800.0, 0.01847718],\n",
       "  [29291.15, 3.686e-05],\n",
       "  [29000.0, 0.00175862],\n",
       "  [28823.06, 2.289e-05],\n",
       "  [28400.0, 0.05],\n",
       "  [28000.0, 0.00017857],\n",
       "  [25000.0, 0.0012412],\n",
       "  [22000.0, 0.00068181],\n",
       "  [20600.0, 0.02917475]],\n",
       " 'asks': [[39652.81, 1.0],\n",
       "  [39656.3, 3.0],\n",
       "  [39658.64, 5.0],\n",
       "  [39660.09, 10.0],\n",
       "  [39690.26, 0.03463082],\n",
       "  [39690.27, 10.0],\n",
       "  [39876.19, 0.00507685],\n",
       "  [39896.7, 0.00647803],\n",
       "  [40500.0, 0.03992994],\n",
       "  [40547.1, 0.7],\n",
       "  [40785.99, 0.00291266],\n",
       "  [40786.0, 0.00306907],\n",
       "  [40800.0, 0.03957783],\n",
       "  [40856.0, 0.00798787],\n",
       "  [41006.73, 0.0012512],\n",
       "  [41140.73, 0.6],\n",
       "  [41320.0, 0.02],\n",
       "  [41500.0, 0.00335142],\n",
       "  [41525.01, 0.00729743],\n",
       "  [41788.01, 0.01265646],\n",
       "  [41800.0, 0.00010765],\n",
       "  [41851.92, 0.02],\n",
       "  [41888.0, 0.01299802],\n",
       "  [41938.21, 0.00013043],\n",
       "  [41985.04, 0.00012433],\n",
       "  [42000.0, 0.17111265],\n",
       "  [42100.0, 0.035],\n",
       "  [42250.0, 0.00023668],\n",
       "  [42296.77, 0.00013027],\n",
       "  [42499.97, 0.004],\n",
       "  [42499.99, 0.00101555],\n",
       "  [42500.0, 0.39136543],\n",
       "  [42749.0, 0.015],\n",
       "  [42754.93, 0.00070903],\n",
       "  [42798.97, 0.0023365],\n",
       "  [42800.0, 0.00589751],\n",
       "  [42800.94, 0.00251898],\n",
       "  [42861.01, 0.00729742],\n",
       "  [42999.99, 0.0015],\n",
       "  [43000.0, 0.04334434],\n",
       "  [43299.06, 0.00709028],\n",
       "  [43500.0, 0.00114942],\n",
       "  [43851.92, 0.00964791],\n",
       "  [43999.99, 0.00128335],\n",
       "  [44000.0, 0.00535003],\n",
       "  [44077.77, 0.00087],\n",
       "  [44100.0, 0.00113378],\n",
       "  [44200.0, 0.00113122],\n",
       "  [44250.0, 0.00123209],\n",
       "  [44276.89, 0.001]],\n",
       " 'timestamp': 1651145335000,\n",
       " 'datetime': '2022-04-28T11:28:55.000Z',\n",
       " 'nonce': None}"
      ]
     },
     "execution_count": 5,
     "metadata": {},
     "output_type": "execute_result"
    }
   ],
   "source": [
    "bitso=ccxt.bitso()\n",
    "crypto = bitso.fetch_order_book('BTC/USDT',limit=30)\n",
    "crypto"
   ]
  },
  {
   "cell_type": "code",
   "execution_count": null,
   "id": "1cdc2d96",
   "metadata": {},
   "outputs": [],
   "source": []
  }
 ],
 "metadata": {
  "kernelspec": {
   "display_name": "Python 3 (ipykernel)",
   "language": "python",
   "name": "python3"
  },
  "language_info": {
   "codemirror_mode": {
    "name": "ipython",
    "version": 3
   },
   "file_extension": ".py",
   "mimetype": "text/x-python",
   "name": "python",
   "nbconvert_exporter": "python",
   "pygments_lexer": "ipython3",
   "version": "3.9.7"
  }
 },
 "nbformat": 4,
 "nbformat_minor": 5
}
