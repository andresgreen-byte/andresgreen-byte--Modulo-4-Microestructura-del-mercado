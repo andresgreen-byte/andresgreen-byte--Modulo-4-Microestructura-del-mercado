{
 "cells": [
  {
   "cell_type": "markdown",
   "id": "fed8e47a",
   "metadata": {},
   "source": [
    "![](data:image/png;base64,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)"
   ]
  },
  {
   "cell_type": "markdown",
   "id": "e5fdf97b",
   "metadata": {},
   "source": [
    "<center><font color=#555555><font size=6> MAF1731 - Microestructura y Sistemas de Trading </font> <br> <br>\n",
    "    \n",
    "<center><font color=#555555><font size=5> Ingeniería Financiera </font> <br> <br> <br> <br>\n",
    "\n",
    "<center><font color=#555555><font size=4> I. F. Andrés Green Garciarce </font> <br> <br>\n",
    "   \n",
    "<center> <font color= #555555> <font size = 4> Abril 2022 </a> | <font color= #555555> <font size = 4> Repositorio: <a href='https://github.com/andresgreen-byte/andresgreen-byte--Modulo-4-Microestructura-del-mercado'>Link</a></font>"
   ]
  },
  {
   "cell_type": "markdown",
   "id": "cabd345e",
   "metadata": {},
   "source": [
    "<hr style=\"border:0.02in solid gray\"> </hr>"
   ]
  },
  {
   "cell_type": "markdown",
   "id": "7c113b93",
   "metadata": {},
   "source": [
    "<center> <font color= #555555> <font size = 6> Laboratorio 4 </font> <br> <br> <font color= #555555> <font size = 5> Behavioral Finance </font>"
   ]
  },
  {
   "cell_type": "markdown",
   "id": "1d576f0b",
   "metadata": {},
   "source": [
    "<hr style=\"border:0.02in solid gray\"> </hr>"
   ]
  },
  {
   "cell_type": "raw",
   "id": "835940d4",
   "metadata": {},
   "source": [
    "Introducción:\n",
    "\n",
    "Este módulo intentará demostrar los resultados reales de la diferencia entre el spread teórico y el roll spread. La mayoría de las veces el roll spread es más bajo dado a las computadoras rápidas y a los high frequency traders. "
   ]
  },
  {
   "cell_type": "code",
   "execution_count": 1,
   "id": "7e8a3e22",
   "metadata": {},
   "outputs": [
    {
     "name": "stdout",
     "output_type": "stream",
     "text": [
      "                      timestamp         Bid         Ask          Mid  \\\n",
      "0  [2022-04-28 16:53:48.328387]  [39815.75]  [39856.17]   [39835.96]   \n",
      "1  [2022-04-28 16:53:51.465059]  [39815.75]  [39856.17]   [39835.96]   \n",
      "2  [2022-04-28 16:53:54.607986]  [39815.75]  [39856.17]   [39835.96]   \n",
      "3  [2022-04-28 16:53:57.740012]  [39815.75]  [39856.17]   [39835.96]   \n",
      "4  [2022-04-28 16:54:00.863374]  [39815.75]  [39856.17]   [39835.96]   \n",
      "5  [2022-04-28 16:54:03.996372]  [39815.75]  [39856.17]   [39835.96]   \n",
      "6  [2022-04-28 16:54:07.158857]  [39815.75]  [39856.17]   [39835.96]   \n",
      "7  [2022-04-28 16:54:10.351973]  [39815.75]  [39856.17]   [39835.96]   \n",
      "8  [2022-04-28 16:54:13.470276]   [39817.4]  [39856.17]  [39836.785]   \n",
      "9  [2022-04-28 16:54:16.599638]   [39817.4]  [39856.17]  [39836.785]   \n",
      "\n",
      "                 Spread  \n",
      "0  [40.419999999998254]  \n",
      "1  [40.419999999998254]  \n",
      "2  [40.419999999998254]  \n",
      "3  [40.419999999998254]  \n",
      "4  [40.419999999998254]  \n",
      "5  [40.419999999998254]  \n",
      "6  [40.419999999998254]  \n",
      "7  [40.419999999998254]  \n",
      "8    [38.7699999999968]  \n",
      "9    [38.7699999999968]                   0         1         2         3         4         5\n",
      "0   1651176900000  39773.62  39773.62  39773.62  39773.62  0.000226\n",
      "1   1651176960000  39724.34  39724.34  39724.33  39724.33  0.001850\n",
      "2   1651177020000  39724.33  39724.33  39724.33  39724.33  0.000000\n",
      "3   1651177080000  39724.33  39724.33  39724.33  39724.33  0.000000\n",
      "4   1651177140000  39780.14  39780.14  39780.14  39780.14  0.010440\n",
      "..            ...       ...       ...       ...       ...       ...\n",
      "95  1651182600000  39799.13  39799.13  39799.13  39799.13  0.000000\n",
      "96  1651182660000  39825.24  39825.24  39825.24  39825.24  0.022202\n",
      "97  1651182720000  39825.24  39825.24  39825.24  39825.24  0.000000\n",
      "98  1651182780000  39856.17  39856.17  39856.17  39856.17  0.075012\n",
      "99  1651182840000  39856.17  39856.17  39856.17  39856.17  0.000015\n",
      "\n",
      "[100 rows x 6 columns]\n"
     ]
    }
   ],
   "source": [
    "import main as m"
   ]
  },
  {
   "cell_type": "markdown",
   "id": "21ba51aa",
   "metadata": {},
   "source": [
    "Primero vamos a descargar los datos correspondientes del Order book y del OCHLV para poder comprar spreads, rolls y mid prices. \n",
    "Por cuestiones de tiempo, solamente se pudieron descargar 10 datos de segundos para OB. No se logro descargar datos por minuto como fue deseado. "
   ]
  },
  {
   "cell_type": "code",
   "execution_count": 8,
   "id": "5f936da2",
   "metadata": {},
   "outputs": [
    {
     "data": {
      "text/html": [
       "<div>\n",
       "<style scoped>\n",
       "    .dataframe tbody tr th:only-of-type {\n",
       "        vertical-align: middle;\n",
       "    }\n",
       "\n",
       "    .dataframe tbody tr th {\n",
       "        vertical-align: top;\n",
       "    }\n",
       "\n",
       "    .dataframe thead th {\n",
       "        text-align: right;\n",
       "    }\n",
       "</style>\n",
       "<table border=\"1\" class=\"dataframe\">\n",
       "  <thead>\n",
       "    <tr style=\"text-align: right;\">\n",
       "      <th></th>\n",
       "      <th>timestamp</th>\n",
       "      <th>Bid</th>\n",
       "      <th>Ask</th>\n",
       "      <th>Mid</th>\n",
       "      <th>Spread</th>\n",
       "    </tr>\n",
       "  </thead>\n",
       "  <tbody>\n",
       "    <tr>\n",
       "      <th>0</th>\n",
       "      <td>[2022-04-28 16:53:48.328387]</td>\n",
       "      <td>[39815.75]</td>\n",
       "      <td>[39856.17]</td>\n",
       "      <td>[39835.96]</td>\n",
       "      <td>[40.419999999998254]</td>\n",
       "    </tr>\n",
       "    <tr>\n",
       "      <th>1</th>\n",
       "      <td>[2022-04-28 16:53:51.465059]</td>\n",
       "      <td>[39815.75]</td>\n",
       "      <td>[39856.17]</td>\n",
       "      <td>[39835.96]</td>\n",
       "      <td>[40.419999999998254]</td>\n",
       "    </tr>\n",
       "    <tr>\n",
       "      <th>2</th>\n",
       "      <td>[2022-04-28 16:53:54.607986]</td>\n",
       "      <td>[39815.75]</td>\n",
       "      <td>[39856.17]</td>\n",
       "      <td>[39835.96]</td>\n",
       "      <td>[40.419999999998254]</td>\n",
       "    </tr>\n",
       "    <tr>\n",
       "      <th>3</th>\n",
       "      <td>[2022-04-28 16:53:57.740012]</td>\n",
       "      <td>[39815.75]</td>\n",
       "      <td>[39856.17]</td>\n",
       "      <td>[39835.96]</td>\n",
       "      <td>[40.419999999998254]</td>\n",
       "    </tr>\n",
       "    <tr>\n",
       "      <th>4</th>\n",
       "      <td>[2022-04-28 16:54:00.863374]</td>\n",
       "      <td>[39815.75]</td>\n",
       "      <td>[39856.17]</td>\n",
       "      <td>[39835.96]</td>\n",
       "      <td>[40.419999999998254]</td>\n",
       "    </tr>\n",
       "    <tr>\n",
       "      <th>5</th>\n",
       "      <td>[2022-04-28 16:54:03.996372]</td>\n",
       "      <td>[39815.75]</td>\n",
       "      <td>[39856.17]</td>\n",
       "      <td>[39835.96]</td>\n",
       "      <td>[40.419999999998254]</td>\n",
       "    </tr>\n",
       "    <tr>\n",
       "      <th>6</th>\n",
       "      <td>[2022-04-28 16:54:07.158857]</td>\n",
       "      <td>[39815.75]</td>\n",
       "      <td>[39856.17]</td>\n",
       "      <td>[39835.96]</td>\n",
       "      <td>[40.419999999998254]</td>\n",
       "    </tr>\n",
       "    <tr>\n",
       "      <th>7</th>\n",
       "      <td>[2022-04-28 16:54:10.351973]</td>\n",
       "      <td>[39815.75]</td>\n",
       "      <td>[39856.17]</td>\n",
       "      <td>[39835.96]</td>\n",
       "      <td>[40.419999999998254]</td>\n",
       "    </tr>\n",
       "    <tr>\n",
       "      <th>8</th>\n",
       "      <td>[2022-04-28 16:54:13.470276]</td>\n",
       "      <td>[39817.4]</td>\n",
       "      <td>[39856.17]</td>\n",
       "      <td>[39836.785]</td>\n",
       "      <td>[38.7699999999968]</td>\n",
       "    </tr>\n",
       "    <tr>\n",
       "      <th>9</th>\n",
       "      <td>[2022-04-28 16:54:16.599638]</td>\n",
       "      <td>[39817.4]</td>\n",
       "      <td>[39856.17]</td>\n",
       "      <td>[39836.785]</td>\n",
       "      <td>[38.7699999999968]</td>\n",
       "    </tr>\n",
       "  </tbody>\n",
       "</table>\n",
       "</div>"
      ],
      "text/plain": [
       "                      timestamp         Bid         Ask          Mid  \\\n",
       "0  [2022-04-28 16:53:48.328387]  [39815.75]  [39856.17]   [39835.96]   \n",
       "1  [2022-04-28 16:53:51.465059]  [39815.75]  [39856.17]   [39835.96]   \n",
       "2  [2022-04-28 16:53:54.607986]  [39815.75]  [39856.17]   [39835.96]   \n",
       "3  [2022-04-28 16:53:57.740012]  [39815.75]  [39856.17]   [39835.96]   \n",
       "4  [2022-04-28 16:54:00.863374]  [39815.75]  [39856.17]   [39835.96]   \n",
       "5  [2022-04-28 16:54:03.996372]  [39815.75]  [39856.17]   [39835.96]   \n",
       "6  [2022-04-28 16:54:07.158857]  [39815.75]  [39856.17]   [39835.96]   \n",
       "7  [2022-04-28 16:54:10.351973]  [39815.75]  [39856.17]   [39835.96]   \n",
       "8  [2022-04-28 16:54:13.470276]   [39817.4]  [39856.17]  [39836.785]   \n",
       "9  [2022-04-28 16:54:16.599638]   [39817.4]  [39856.17]  [39836.785]   \n",
       "\n",
       "                 Spread  \n",
       "0  [40.419999999998254]  \n",
       "1  [40.419999999998254]  \n",
       "2  [40.419999999998254]  \n",
       "3  [40.419999999998254]  \n",
       "4  [40.419999999998254]  \n",
       "5  [40.419999999998254]  \n",
       "6  [40.419999999998254]  \n",
       "7  [40.419999999998254]  \n",
       "8    [38.7699999999968]  \n",
       "9    [38.7699999999968]  "
      ]
     },
     "execution_count": 8,
     "metadata": {},
     "output_type": "execute_result"
    }
   ],
   "source": [
    "obbtc = m.obbtc\n",
    "obbtc"
   ]
  },
  {
   "cell_type": "markdown",
   "id": "85d3f212",
   "metadata": {},
   "source": [
    "Como se puede observar, el spread al descargar el OB es bastante alto. "
   ]
  },
  {
   "cell_type": "code",
   "execution_count": 9,
   "id": "4a625c27",
   "metadata": {},
   "outputs": [
    {
     "data": {
      "text/html": [
       "<div>\n",
       "<style scoped>\n",
       "    .dataframe tbody tr th:only-of-type {\n",
       "        vertical-align: middle;\n",
       "    }\n",
       "\n",
       "    .dataframe tbody tr th {\n",
       "        vertical-align: top;\n",
       "    }\n",
       "\n",
       "    .dataframe thead th {\n",
       "        text-align: right;\n",
       "    }\n",
       "</style>\n",
       "<table border=\"1\" class=\"dataframe\">\n",
       "  <thead>\n",
       "    <tr style=\"text-align: right;\">\n",
       "      <th></th>\n",
       "      <th>0</th>\n",
       "      <th>1</th>\n",
       "      <th>2</th>\n",
       "      <th>3</th>\n",
       "      <th>4</th>\n",
       "      <th>5</th>\n",
       "    </tr>\n",
       "  </thead>\n",
       "  <tbody>\n",
       "    <tr>\n",
       "      <th>0</th>\n",
       "      <td>1651176900000</td>\n",
       "      <td>39773.62</td>\n",
       "      <td>39773.62</td>\n",
       "      <td>39773.62</td>\n",
       "      <td>39773.62</td>\n",
       "      <td>0.000226</td>\n",
       "    </tr>\n",
       "    <tr>\n",
       "      <th>1</th>\n",
       "      <td>1651176960000</td>\n",
       "      <td>39724.34</td>\n",
       "      <td>39724.34</td>\n",
       "      <td>39724.33</td>\n",
       "      <td>39724.33</td>\n",
       "      <td>0.001850</td>\n",
       "    </tr>\n",
       "    <tr>\n",
       "      <th>2</th>\n",
       "      <td>1651177020000</td>\n",
       "      <td>39724.33</td>\n",
       "      <td>39724.33</td>\n",
       "      <td>39724.33</td>\n",
       "      <td>39724.33</td>\n",
       "      <td>0.000000</td>\n",
       "    </tr>\n",
       "    <tr>\n",
       "      <th>3</th>\n",
       "      <td>1651177080000</td>\n",
       "      <td>39724.33</td>\n",
       "      <td>39724.33</td>\n",
       "      <td>39724.33</td>\n",
       "      <td>39724.33</td>\n",
       "      <td>0.000000</td>\n",
       "    </tr>\n",
       "    <tr>\n",
       "      <th>4</th>\n",
       "      <td>1651177140000</td>\n",
       "      <td>39780.14</td>\n",
       "      <td>39780.14</td>\n",
       "      <td>39780.14</td>\n",
       "      <td>39780.14</td>\n",
       "      <td>0.010440</td>\n",
       "    </tr>\n",
       "    <tr>\n",
       "      <th>...</th>\n",
       "      <td>...</td>\n",
       "      <td>...</td>\n",
       "      <td>...</td>\n",
       "      <td>...</td>\n",
       "      <td>...</td>\n",
       "      <td>...</td>\n",
       "    </tr>\n",
       "    <tr>\n",
       "      <th>95</th>\n",
       "      <td>1651182600000</td>\n",
       "      <td>39799.13</td>\n",
       "      <td>39799.13</td>\n",
       "      <td>39799.13</td>\n",
       "      <td>39799.13</td>\n",
       "      <td>0.000000</td>\n",
       "    </tr>\n",
       "    <tr>\n",
       "      <th>96</th>\n",
       "      <td>1651182660000</td>\n",
       "      <td>39825.24</td>\n",
       "      <td>39825.24</td>\n",
       "      <td>39825.24</td>\n",
       "      <td>39825.24</td>\n",
       "      <td>0.022202</td>\n",
       "    </tr>\n",
       "    <tr>\n",
       "      <th>97</th>\n",
       "      <td>1651182720000</td>\n",
       "      <td>39825.24</td>\n",
       "      <td>39825.24</td>\n",
       "      <td>39825.24</td>\n",
       "      <td>39825.24</td>\n",
       "      <td>0.000000</td>\n",
       "    </tr>\n",
       "    <tr>\n",
       "      <th>98</th>\n",
       "      <td>1651182780000</td>\n",
       "      <td>39856.17</td>\n",
       "      <td>39856.17</td>\n",
       "      <td>39856.17</td>\n",
       "      <td>39856.17</td>\n",
       "      <td>0.075012</td>\n",
       "    </tr>\n",
       "    <tr>\n",
       "      <th>99</th>\n",
       "      <td>1651182840000</td>\n",
       "      <td>39856.17</td>\n",
       "      <td>39856.17</td>\n",
       "      <td>39856.17</td>\n",
       "      <td>39856.17</td>\n",
       "      <td>0.000015</td>\n",
       "    </tr>\n",
       "  </tbody>\n",
       "</table>\n",
       "<p>100 rows × 6 columns</p>\n",
       "</div>"
      ],
      "text/plain": [
       "                0         1         2         3         4         5\n",
       "0   1651176900000  39773.62  39773.62  39773.62  39773.62  0.000226\n",
       "1   1651176960000  39724.34  39724.34  39724.33  39724.33  0.001850\n",
       "2   1651177020000  39724.33  39724.33  39724.33  39724.33  0.000000\n",
       "3   1651177080000  39724.33  39724.33  39724.33  39724.33  0.000000\n",
       "4   1651177140000  39780.14  39780.14  39780.14  39780.14  0.010440\n",
       "..            ...       ...       ...       ...       ...       ...\n",
       "95  1651182600000  39799.13  39799.13  39799.13  39799.13  0.000000\n",
       "96  1651182660000  39825.24  39825.24  39825.24  39825.24  0.022202\n",
       "97  1651182720000  39825.24  39825.24  39825.24  39825.24  0.000000\n",
       "98  1651182780000  39856.17  39856.17  39856.17  39856.17  0.075012\n",
       "99  1651182840000  39856.17  39856.17  39856.17  39856.17  0.000015\n",
       "\n",
       "[100 rows x 6 columns]"
      ]
     },
     "execution_count": 9,
     "metadata": {},
     "output_type": "execute_result"
    }
   ],
   "source": [
    "ochlvbtc = m.ochlvbtc\n",
    "ochlvbtc"
   ]
  },
  {
   "cell_type": "markdown",
   "id": "4a2e3cc8",
   "metadata": {},
   "source": [
    "El spread histórico es mucho más bajo, esto es dado a que los algoritmos de alta frecuencia aprovechan las diferencias y el spread es inexistente para los traders casuales que intentan aprovechar de las diverencias. "
   ]
  },
  {
   "cell_type": "code",
   "execution_count": 10,
   "id": "b5023f4b",
   "metadata": {},
   "outputs": [
    {
     "data": {
      "application/vnd.plotly.v1+json": {
       "config": {
        "plotlyServerURL": "https://plot.ly"
       },
       "data": [
        {
         "hovertemplate": "timestamp=%{x}<br>Bid=%{y}<extra></extra>",
         "legendgroup": "",
         "line": {
          "color": "#636efa",
          "dash": "solid"
         },
         "marker": {
          "symbol": "circle"
         },
         "mode": "lines",
         "name": "",
         "orientation": "v",
         "showlegend": false,
         "type": "scatter",
         "x": [
          [
           "2022-04-28T16:53:48.328387"
          ],
          [
           "2022-04-28T16:53:51.465059"
          ],
          [
           "2022-04-28T16:53:54.607986"
          ],
          [
           "2022-04-28T16:53:57.740012"
          ],
          [
           "2022-04-28T16:54:00.863374"
          ],
          [
           "2022-04-28T16:54:03.996372"
          ],
          [
           "2022-04-28T16:54:07.158857"
          ],
          [
           "2022-04-28T16:54:10.351973"
          ],
          [
           "2022-04-28T16:54:13.470276"
          ],
          [
           "2022-04-28T16:54:16.599638"
          ]
         ],
         "xaxis": "x",
         "y": [
          [
           39815.75
          ],
          [
           39815.75
          ],
          [
           39815.75
          ],
          [
           39815.75
          ],
          [
           39815.75
          ],
          [
           39815.75
          ],
          [
           39815.75
          ],
          [
           39815.75
          ],
          [
           39817.4
          ],
          [
           39817.4
          ]
         ],
         "yaxis": "y"
        }
       ],
       "layout": {
        "legend": {
         "tracegroupgap": 0
        },
        "margin": {
         "t": 60
        },
        "template": {
         "data": {
          "bar": [
           {
            "error_x": {
             "color": "#2a3f5f"
            },
            "error_y": {
             "color": "#2a3f5f"
            },
            "marker": {
             "line": {
              "color": "#E5ECF6",
              "width": 0.5
             },
             "pattern": {
              "fillmode": "overlay",
              "size": 10,
              "solidity": 0.2
             }
            },
            "type": "bar"
           }
          ],
          "barpolar": [
           {
            "marker": {
             "line": {
              "color": "#E5ECF6",
              "width": 0.5
             },
             "pattern": {
              "fillmode": "overlay",
              "size": 10,
              "solidity": 0.2
             }
            },
            "type": "barpolar"
           }
          ],
          "carpet": [
           {
            "aaxis": {
             "endlinecolor": "#2a3f5f",
             "gridcolor": "white",
             "linecolor": "white",
             "minorgridcolor": "white",
             "startlinecolor": "#2a3f5f"
            },
            "baxis": {
             "endlinecolor": "#2a3f5f",
             "gridcolor": "white",
             "linecolor": "white",
             "minorgridcolor": "white",
             "startlinecolor": "#2a3f5f"
            },
            "type": "carpet"
           }
          ],
          "choropleth": [
           {
            "colorbar": {
             "outlinewidth": 0,
             "ticks": ""
            },
            "type": "choropleth"
           }
          ],
          "contour": [
           {
            "colorbar": {
             "outlinewidth": 0,
             "ticks": ""
            },
            "colorscale": [
             [
              0,
              "#0d0887"
             ],
             [
              0.1111111111111111,
              "#46039f"
             ],
             [
              0.2222222222222222,
              "#7201a8"
             ],
             [
              0.3333333333333333,
              "#9c179e"
             ],
             [
              0.4444444444444444,
              "#bd3786"
             ],
             [
              0.5555555555555556,
              "#d8576b"
             ],
             [
              0.6666666666666666,
              "#ed7953"
             ],
             [
              0.7777777777777778,
              "#fb9f3a"
             ],
             [
              0.8888888888888888,
              "#fdca26"
             ],
             [
              1,
              "#f0f921"
             ]
            ],
            "type": "contour"
           }
          ],
          "contourcarpet": [
           {
            "colorbar": {
             "outlinewidth": 0,
             "ticks": ""
            },
            "type": "contourcarpet"
           }
          ],
          "heatmap": [
           {
            "colorbar": {
             "outlinewidth": 0,
             "ticks": ""
            },
            "colorscale": [
             [
              0,
              "#0d0887"
             ],
             [
              0.1111111111111111,
              "#46039f"
             ],
             [
              0.2222222222222222,
              "#7201a8"
             ],
             [
              0.3333333333333333,
              "#9c179e"
             ],
             [
              0.4444444444444444,
              "#bd3786"
             ],
             [
              0.5555555555555556,
              "#d8576b"
             ],
             [
              0.6666666666666666,
              "#ed7953"
             ],
             [
              0.7777777777777778,
              "#fb9f3a"
             ],
             [
              0.8888888888888888,
              "#fdca26"
             ],
             [
              1,
              "#f0f921"
             ]
            ],
            "type": "heatmap"
           }
          ],
          "heatmapgl": [
           {
            "colorbar": {
             "outlinewidth": 0,
             "ticks": ""
            },
            "colorscale": [
             [
              0,
              "#0d0887"
             ],
             [
              0.1111111111111111,
              "#46039f"
             ],
             [
              0.2222222222222222,
              "#7201a8"
             ],
             [
              0.3333333333333333,
              "#9c179e"
             ],
             [
              0.4444444444444444,
              "#bd3786"
             ],
             [
              0.5555555555555556,
              "#d8576b"
             ],
             [
              0.6666666666666666,
              "#ed7953"
             ],
             [
              0.7777777777777778,
              "#fb9f3a"
             ],
             [
              0.8888888888888888,
              "#fdca26"
             ],
             [
              1,
              "#f0f921"
             ]
            ],
            "type": "heatmapgl"
           }
          ],
          "histogram": [
           {
            "marker": {
             "pattern": {
              "fillmode": "overlay",
              "size": 10,
              "solidity": 0.2
             }
            },
            "type": "histogram"
           }
          ],
          "histogram2d": [
           {
            "colorbar": {
             "outlinewidth": 0,
             "ticks": ""
            },
            "colorscale": [
             [
              0,
              "#0d0887"
             ],
             [
              0.1111111111111111,
              "#46039f"
             ],
             [
              0.2222222222222222,
              "#7201a8"
             ],
             [
              0.3333333333333333,
              "#9c179e"
             ],
             [
              0.4444444444444444,
              "#bd3786"
             ],
             [
              0.5555555555555556,
              "#d8576b"
             ],
             [
              0.6666666666666666,
              "#ed7953"
             ],
             [
              0.7777777777777778,
              "#fb9f3a"
             ],
             [
              0.8888888888888888,
              "#fdca26"
             ],
             [
              1,
              "#f0f921"
             ]
            ],
            "type": "histogram2d"
           }
          ],
          "histogram2dcontour": [
           {
            "colorbar": {
             "outlinewidth": 0,
             "ticks": ""
            },
            "colorscale": [
             [
              0,
              "#0d0887"
             ],
             [
              0.1111111111111111,
              "#46039f"
             ],
             [
              0.2222222222222222,
              "#7201a8"
             ],
             [
              0.3333333333333333,
              "#9c179e"
             ],
             [
              0.4444444444444444,
              "#bd3786"
             ],
             [
              0.5555555555555556,
              "#d8576b"
             ],
             [
              0.6666666666666666,
              "#ed7953"
             ],
             [
              0.7777777777777778,
              "#fb9f3a"
             ],
             [
              0.8888888888888888,
              "#fdca26"
             ],
             [
              1,
              "#f0f921"
             ]
            ],
            "type": "histogram2dcontour"
           }
          ],
          "mesh3d": [
           {
            "colorbar": {
             "outlinewidth": 0,
             "ticks": ""
            },
            "type": "mesh3d"
           }
          ],
          "parcoords": [
           {
            "line": {
             "colorbar": {
              "outlinewidth": 0,
              "ticks": ""
             }
            },
            "type": "parcoords"
           }
          ],
          "pie": [
           {
            "automargin": true,
            "type": "pie"
           }
          ],
          "scatter": [
           {
            "fillpattern": {
             "fillmode": "overlay",
             "size": 10,
             "solidity": 0.2
            },
            "type": "scatter"
           }
          ],
          "scatter3d": [
           {
            "line": {
             "colorbar": {
              "outlinewidth": 0,
              "ticks": ""
             }
            },
            "marker": {
             "colorbar": {
              "outlinewidth": 0,
              "ticks": ""
             }
            },
            "type": "scatter3d"
           }
          ],
          "scattercarpet": [
           {
            "marker": {
             "colorbar": {
              "outlinewidth": 0,
              "ticks": ""
             }
            },
            "type": "scattercarpet"
           }
          ],
          "scattergeo": [
           {
            "marker": {
             "colorbar": {
              "outlinewidth": 0,
              "ticks": ""
             }
            },
            "type": "scattergeo"
           }
          ],
          "scattergl": [
           {
            "marker": {
             "colorbar": {
              "outlinewidth": 0,
              "ticks": ""
             }
            },
            "type": "scattergl"
           }
          ],
          "scattermapbox": [
           {
            "marker": {
             "colorbar": {
              "outlinewidth": 0,
              "ticks": ""
             }
            },
            "type": "scattermapbox"
           }
          ],
          "scatterpolar": [
           {
            "marker": {
             "colorbar": {
              "outlinewidth": 0,
              "ticks": ""
             }
            },
            "type": "scatterpolar"
           }
          ],
          "scatterpolargl": [
           {
            "marker": {
             "colorbar": {
              "outlinewidth": 0,
              "ticks": ""
             }
            },
            "type": "scatterpolargl"
           }
          ],
          "scatterternary": [
           {
            "marker": {
             "colorbar": {
              "outlinewidth": 0,
              "ticks": ""
             }
            },
            "type": "scatterternary"
           }
          ],
          "surface": [
           {
            "colorbar": {
             "outlinewidth": 0,
             "ticks": ""
            },
            "colorscale": [
             [
              0,
              "#0d0887"
             ],
             [
              0.1111111111111111,
              "#46039f"
             ],
             [
              0.2222222222222222,
              "#7201a8"
             ],
             [
              0.3333333333333333,
              "#9c179e"
             ],
             [
              0.4444444444444444,
              "#bd3786"
             ],
             [
              0.5555555555555556,
              "#d8576b"
             ],
             [
              0.6666666666666666,
              "#ed7953"
             ],
             [
              0.7777777777777778,
              "#fb9f3a"
             ],
             [
              0.8888888888888888,
              "#fdca26"
             ],
             [
              1,
              "#f0f921"
             ]
            ],
            "type": "surface"
           }
          ],
          "table": [
           {
            "cells": {
             "fill": {
              "color": "#EBF0F8"
             },
             "line": {
              "color": "white"
             }
            },
            "header": {
             "fill": {
              "color": "#C8D4E3"
             },
             "line": {
              "color": "white"
             }
            },
            "type": "table"
           }
          ]
         },
         "layout": {
          "annotationdefaults": {
           "arrowcolor": "#2a3f5f",
           "arrowhead": 0,
           "arrowwidth": 1
          },
          "autotypenumbers": "strict",
          "coloraxis": {
           "colorbar": {
            "outlinewidth": 0,
            "ticks": ""
           }
          },
          "colorscale": {
           "diverging": [
            [
             0,
             "#8e0152"
            ],
            [
             0.1,
             "#c51b7d"
            ],
            [
             0.2,
             "#de77ae"
            ],
            [
             0.3,
             "#f1b6da"
            ],
            [
             0.4,
             "#fde0ef"
            ],
            [
             0.5,
             "#f7f7f7"
            ],
            [
             0.6,
             "#e6f5d0"
            ],
            [
             0.7,
             "#b8e186"
            ],
            [
             0.8,
             "#7fbc41"
            ],
            [
             0.9,
             "#4d9221"
            ],
            [
             1,
             "#276419"
            ]
           ],
           "sequential": [
            [
             0,
             "#0d0887"
            ],
            [
             0.1111111111111111,
             "#46039f"
            ],
            [
             0.2222222222222222,
             "#7201a8"
            ],
            [
             0.3333333333333333,
             "#9c179e"
            ],
            [
             0.4444444444444444,
             "#bd3786"
            ],
            [
             0.5555555555555556,
             "#d8576b"
            ],
            [
             0.6666666666666666,
             "#ed7953"
            ],
            [
             0.7777777777777778,
             "#fb9f3a"
            ],
            [
             0.8888888888888888,
             "#fdca26"
            ],
            [
             1,
             "#f0f921"
            ]
           ],
           "sequentialminus": [
            [
             0,
             "#0d0887"
            ],
            [
             0.1111111111111111,
             "#46039f"
            ],
            [
             0.2222222222222222,
             "#7201a8"
            ],
            [
             0.3333333333333333,
             "#9c179e"
            ],
            [
             0.4444444444444444,
             "#bd3786"
            ],
            [
             0.5555555555555556,
             "#d8576b"
            ],
            [
             0.6666666666666666,
             "#ed7953"
            ],
            [
             0.7777777777777778,
             "#fb9f3a"
            ],
            [
             0.8888888888888888,
             "#fdca26"
            ],
            [
             1,
             "#f0f921"
            ]
           ]
          },
          "colorway": [
           "#636efa",
           "#EF553B",
           "#00cc96",
           "#ab63fa",
           "#FFA15A",
           "#19d3f3",
           "#FF6692",
           "#B6E880",
           "#FF97FF",
           "#FECB52"
          ],
          "font": {
           "color": "#2a3f5f"
          },
          "geo": {
           "bgcolor": "white",
           "lakecolor": "white",
           "landcolor": "#E5ECF6",
           "showlakes": true,
           "showland": true,
           "subunitcolor": "white"
          },
          "hoverlabel": {
           "align": "left"
          },
          "hovermode": "closest",
          "mapbox": {
           "style": "light"
          },
          "paper_bgcolor": "white",
          "plot_bgcolor": "#E5ECF6",
          "polar": {
           "angularaxis": {
            "gridcolor": "white",
            "linecolor": "white",
            "ticks": ""
           },
           "bgcolor": "#E5ECF6",
           "radialaxis": {
            "gridcolor": "white",
            "linecolor": "white",
            "ticks": ""
           }
          },
          "scene": {
           "xaxis": {
            "backgroundcolor": "#E5ECF6",
            "gridcolor": "white",
            "gridwidth": 2,
            "linecolor": "white",
            "showbackground": true,
            "ticks": "",
            "zerolinecolor": "white"
           },
           "yaxis": {
            "backgroundcolor": "#E5ECF6",
            "gridcolor": "white",
            "gridwidth": 2,
            "linecolor": "white",
            "showbackground": true,
            "ticks": "",
            "zerolinecolor": "white"
           },
           "zaxis": {
            "backgroundcolor": "#E5ECF6",
            "gridcolor": "white",
            "gridwidth": 2,
            "linecolor": "white",
            "showbackground": true,
            "ticks": "",
            "zerolinecolor": "white"
           }
          },
          "shapedefaults": {
           "line": {
            "color": "#2a3f5f"
           }
          },
          "ternary": {
           "aaxis": {
            "gridcolor": "white",
            "linecolor": "white",
            "ticks": ""
           },
           "baxis": {
            "gridcolor": "white",
            "linecolor": "white",
            "ticks": ""
           },
           "bgcolor": "#E5ECF6",
           "caxis": {
            "gridcolor": "white",
            "linecolor": "white",
            "ticks": ""
           }
          },
          "title": {
           "x": 0.05
          },
          "xaxis": {
           "automargin": true,
           "gridcolor": "white",
           "linecolor": "white",
           "ticks": "",
           "title": {
            "standoff": 15
           },
           "zerolinecolor": "white",
           "zerolinewidth": 2
          },
          "yaxis": {
           "automargin": true,
           "gridcolor": "white",
           "linecolor": "white",
           "ticks": "",
           "title": {
            "standoff": 15
           },
           "zerolinecolor": "white",
           "zerolinewidth": 2
          }
         }
        },
        "xaxis": {
         "anchor": "y",
         "domain": [
          0,
          1
         ],
         "title": {
          "text": "timestamp"
         }
        },
        "yaxis": {
         "anchor": "x",
         "domain": [
          0,
          1
         ],
         "title": {
          "text": "Bid"
         }
        }
       }
      },
      "text/html": [
       "<div>                            <div id=\"80c4ba60-d22c-4311-bc86-d16ee3260a84\" class=\"plotly-graph-div\" style=\"height:525px; width:100%;\"></div>            <script type=\"text/javascript\">                require([\"plotly\"], function(Plotly) {                    window.PLOTLYENV=window.PLOTLYENV || {};                                    if (document.getElementById(\"80c4ba60-d22c-4311-bc86-d16ee3260a84\")) {                    Plotly.newPlot(                        \"80c4ba60-d22c-4311-bc86-d16ee3260a84\",                        [{\"hovertemplate\":\"timestamp=%{x}<br>Bid=%{y}<extra></extra>\",\"legendgroup\":\"\",\"line\":{\"color\":\"#636efa\",\"dash\":\"solid\"},\"marker\":{\"symbol\":\"circle\"},\"mode\":\"lines\",\"name\":\"\",\"orientation\":\"v\",\"showlegend\":false,\"x\":[[\"2022-04-28T16:53:48.328387\"],[\"2022-04-28T16:53:51.465059\"],[\"2022-04-28T16:53:54.607986\"],[\"2022-04-28T16:53:57.740012\"],[\"2022-04-28T16:54:00.863374\"],[\"2022-04-28T16:54:03.996372\"],[\"2022-04-28T16:54:07.158857\"],[\"2022-04-28T16:54:10.351973\"],[\"2022-04-28T16:54:13.470276\"],[\"2022-04-28T16:54:16.599638\"]],\"xaxis\":\"x\",\"y\":[[39815.75],[39815.75],[39815.75],[39815.75],[39815.75],[39815.75],[39815.75],[39815.75],[39817.4],[39817.4]],\"yaxis\":\"y\",\"type\":\"scatter\"}],                        {\"template\":{\"data\":{\"histogram2dcontour\":[{\"type\":\"histogram2dcontour\",\"colorbar\":{\"outlinewidth\":0,\"ticks\":\"\"},\"colorscale\":[[0.0,\"#0d0887\"],[0.1111111111111111,\"#46039f\"],[0.2222222222222222,\"#7201a8\"],[0.3333333333333333,\"#9c179e\"],[0.4444444444444444,\"#bd3786\"],[0.5555555555555556,\"#d8576b\"],[0.6666666666666666,\"#ed7953\"],[0.7777777777777778,\"#fb9f3a\"],[0.8888888888888888,\"#fdca26\"],[1.0,\"#f0f921\"]]}],\"choropleth\":[{\"type\":\"choropleth\",\"colorbar\":{\"outlinewidth\":0,\"ticks\":\"\"}}],\"histogram2d\":[{\"type\":\"histogram2d\",\"colorbar\":{\"outlinewidth\":0,\"ticks\":\"\"},\"colorscale\":[[0.0,\"#0d0887\"],[0.1111111111111111,\"#46039f\"],[0.2222222222222222,\"#7201a8\"],[0.3333333333333333,\"#9c179e\"],[0.4444444444444444,\"#bd3786\"],[0.5555555555555556,\"#d8576b\"],[0.6666666666666666,\"#ed7953\"],[0.7777777777777778,\"#fb9f3a\"],[0.8888888888888888,\"#fdca26\"],[1.0,\"#f0f921\"]]}],\"heatmap\":[{\"type\":\"heatmap\",\"colorbar\":{\"outlinewidth\":0,\"ticks\":\"\"},\"colorscale\":[[0.0,\"#0d0887\"],[0.1111111111111111,\"#46039f\"],[0.2222222222222222,\"#7201a8\"],[0.3333333333333333,\"#9c179e\"],[0.4444444444444444,\"#bd3786\"],[0.5555555555555556,\"#d8576b\"],[0.6666666666666666,\"#ed7953\"],[0.7777777777777778,\"#fb9f3a\"],[0.8888888888888888,\"#fdca26\"],[1.0,\"#f0f921\"]]}],\"heatmapgl\":[{\"type\":\"heatmapgl\",\"colorbar\":{\"outlinewidth\":0,\"ticks\":\"\"},\"colorscale\":[[0.0,\"#0d0887\"],[0.1111111111111111,\"#46039f\"],[0.2222222222222222,\"#7201a8\"],[0.3333333333333333,\"#9c179e\"],[0.4444444444444444,\"#bd3786\"],[0.5555555555555556,\"#d8576b\"],[0.6666666666666666,\"#ed7953\"],[0.7777777777777778,\"#fb9f3a\"],[0.8888888888888888,\"#fdca26\"],[1.0,\"#f0f921\"]]}],\"contourcarpet\":[{\"type\":\"contourcarpet\",\"colorbar\":{\"outlinewidth\":0,\"ticks\":\"\"}}],\"contour\":[{\"type\":\"contour\",\"colorbar\":{\"outlinewidth\":0,\"ticks\":\"\"},\"colorscale\":[[0.0,\"#0d0887\"],[0.1111111111111111,\"#46039f\"],[0.2222222222222222,\"#7201a8\"],[0.3333333333333333,\"#9c179e\"],[0.4444444444444444,\"#bd3786\"],[0.5555555555555556,\"#d8576b\"],[0.6666666666666666,\"#ed7953\"],[0.7777777777777778,\"#fb9f3a\"],[0.8888888888888888,\"#fdca26\"],[1.0,\"#f0f921\"]]}],\"surface\":[{\"type\":\"surface\",\"colorbar\":{\"outlinewidth\":0,\"ticks\":\"\"},\"colorscale\":[[0.0,\"#0d0887\"],[0.1111111111111111,\"#46039f\"],[0.2222222222222222,\"#7201a8\"],[0.3333333333333333,\"#9c179e\"],[0.4444444444444444,\"#bd3786\"],[0.5555555555555556,\"#d8576b\"],[0.6666666666666666,\"#ed7953\"],[0.7777777777777778,\"#fb9f3a\"],[0.8888888888888888,\"#fdca26\"],[1.0,\"#f0f921\"]]}],\"mesh3d\":[{\"type\":\"mesh3d\",\"colorbar\":{\"outlinewidth\":0,\"ticks\":\"\"}}],\"scatter\":[{\"fillpattern\":{\"fillmode\":\"overlay\",\"size\":10,\"solidity\":0.2},\"type\":\"scatter\"}],\"parcoords\":[{\"type\":\"parcoords\",\"line\":{\"colorbar\":{\"outlinewidth\":0,\"ticks\":\"\"}}}],\"scatterpolargl\":[{\"type\":\"scatterpolargl\",\"marker\":{\"colorbar\":{\"outlinewidth\":0,\"ticks\":\"\"}}}],\"bar\":[{\"error_x\":{\"color\":\"#2a3f5f\"},\"error_y\":{\"color\":\"#2a3f5f\"},\"marker\":{\"line\":{\"color\":\"#E5ECF6\",\"width\":0.5},\"pattern\":{\"fillmode\":\"overlay\",\"size\":10,\"solidity\":0.2}},\"type\":\"bar\"}],\"scattergeo\":[{\"type\":\"scattergeo\",\"marker\":{\"colorbar\":{\"outlinewidth\":0,\"ticks\":\"\"}}}],\"scatterpolar\":[{\"type\":\"scatterpolar\",\"marker\":{\"colorbar\":{\"outlinewidth\":0,\"ticks\":\"\"}}}],\"histogram\":[{\"marker\":{\"pattern\":{\"fillmode\":\"overlay\",\"size\":10,\"solidity\":0.2}},\"type\":\"histogram\"}],\"scattergl\":[{\"type\":\"scattergl\",\"marker\":{\"colorbar\":{\"outlinewidth\":0,\"ticks\":\"\"}}}],\"scatter3d\":[{\"type\":\"scatter3d\",\"line\":{\"colorbar\":{\"outlinewidth\":0,\"ticks\":\"\"}},\"marker\":{\"colorbar\":{\"outlinewidth\":0,\"ticks\":\"\"}}}],\"scattermapbox\":[{\"type\":\"scattermapbox\",\"marker\":{\"colorbar\":{\"outlinewidth\":0,\"ticks\":\"\"}}}],\"scatterternary\":[{\"type\":\"scatterternary\",\"marker\":{\"colorbar\":{\"outlinewidth\":0,\"ticks\":\"\"}}}],\"scattercarpet\":[{\"type\":\"scattercarpet\",\"marker\":{\"colorbar\":{\"outlinewidth\":0,\"ticks\":\"\"}}}],\"carpet\":[{\"aaxis\":{\"endlinecolor\":\"#2a3f5f\",\"gridcolor\":\"white\",\"linecolor\":\"white\",\"minorgridcolor\":\"white\",\"startlinecolor\":\"#2a3f5f\"},\"baxis\":{\"endlinecolor\":\"#2a3f5f\",\"gridcolor\":\"white\",\"linecolor\":\"white\",\"minorgridcolor\":\"white\",\"startlinecolor\":\"#2a3f5f\"},\"type\":\"carpet\"}],\"table\":[{\"cells\":{\"fill\":{\"color\":\"#EBF0F8\"},\"line\":{\"color\":\"white\"}},\"header\":{\"fill\":{\"color\":\"#C8D4E3\"},\"line\":{\"color\":\"white\"}},\"type\":\"table\"}],\"barpolar\":[{\"marker\":{\"line\":{\"color\":\"#E5ECF6\",\"width\":0.5},\"pattern\":{\"fillmode\":\"overlay\",\"size\":10,\"solidity\":0.2}},\"type\":\"barpolar\"}],\"pie\":[{\"automargin\":true,\"type\":\"pie\"}]},\"layout\":{\"autotypenumbers\":\"strict\",\"colorway\":[\"#636efa\",\"#EF553B\",\"#00cc96\",\"#ab63fa\",\"#FFA15A\",\"#19d3f3\",\"#FF6692\",\"#B6E880\",\"#FF97FF\",\"#FECB52\"],\"font\":{\"color\":\"#2a3f5f\"},\"hovermode\":\"closest\",\"hoverlabel\":{\"align\":\"left\"},\"paper_bgcolor\":\"white\",\"plot_bgcolor\":\"#E5ECF6\",\"polar\":{\"bgcolor\":\"#E5ECF6\",\"angularaxis\":{\"gridcolor\":\"white\",\"linecolor\":\"white\",\"ticks\":\"\"},\"radialaxis\":{\"gridcolor\":\"white\",\"linecolor\":\"white\",\"ticks\":\"\"}},\"ternary\":{\"bgcolor\":\"#E5ECF6\",\"aaxis\":{\"gridcolor\":\"white\",\"linecolor\":\"white\",\"ticks\":\"\"},\"baxis\":{\"gridcolor\":\"white\",\"linecolor\":\"white\",\"ticks\":\"\"},\"caxis\":{\"gridcolor\":\"white\",\"linecolor\":\"white\",\"ticks\":\"\"}},\"coloraxis\":{\"colorbar\":{\"outlinewidth\":0,\"ticks\":\"\"}},\"colorscale\":{\"sequential\":[[0.0,\"#0d0887\"],[0.1111111111111111,\"#46039f\"],[0.2222222222222222,\"#7201a8\"],[0.3333333333333333,\"#9c179e\"],[0.4444444444444444,\"#bd3786\"],[0.5555555555555556,\"#d8576b\"],[0.6666666666666666,\"#ed7953\"],[0.7777777777777778,\"#fb9f3a\"],[0.8888888888888888,\"#fdca26\"],[1.0,\"#f0f921\"]],\"sequentialminus\":[[0.0,\"#0d0887\"],[0.1111111111111111,\"#46039f\"],[0.2222222222222222,\"#7201a8\"],[0.3333333333333333,\"#9c179e\"],[0.4444444444444444,\"#bd3786\"],[0.5555555555555556,\"#d8576b\"],[0.6666666666666666,\"#ed7953\"],[0.7777777777777778,\"#fb9f3a\"],[0.8888888888888888,\"#fdca26\"],[1.0,\"#f0f921\"]],\"diverging\":[[0,\"#8e0152\"],[0.1,\"#c51b7d\"],[0.2,\"#de77ae\"],[0.3,\"#f1b6da\"],[0.4,\"#fde0ef\"],[0.5,\"#f7f7f7\"],[0.6,\"#e6f5d0\"],[0.7,\"#b8e186\"],[0.8,\"#7fbc41\"],[0.9,\"#4d9221\"],[1,\"#276419\"]]},\"xaxis\":{\"gridcolor\":\"white\",\"linecolor\":\"white\",\"ticks\":\"\",\"title\":{\"standoff\":15},\"zerolinecolor\":\"white\",\"automargin\":true,\"zerolinewidth\":2},\"yaxis\":{\"gridcolor\":\"white\",\"linecolor\":\"white\",\"ticks\":\"\",\"title\":{\"standoff\":15},\"zerolinecolor\":\"white\",\"automargin\":true,\"zerolinewidth\":2},\"scene\":{\"xaxis\":{\"backgroundcolor\":\"#E5ECF6\",\"gridcolor\":\"white\",\"linecolor\":\"white\",\"showbackground\":true,\"ticks\":\"\",\"zerolinecolor\":\"white\",\"gridwidth\":2},\"yaxis\":{\"backgroundcolor\":\"#E5ECF6\",\"gridcolor\":\"white\",\"linecolor\":\"white\",\"showbackground\":true,\"ticks\":\"\",\"zerolinecolor\":\"white\",\"gridwidth\":2},\"zaxis\":{\"backgroundcolor\":\"#E5ECF6\",\"gridcolor\":\"white\",\"linecolor\":\"white\",\"showbackground\":true,\"ticks\":\"\",\"zerolinecolor\":\"white\",\"gridwidth\":2}},\"shapedefaults\":{\"line\":{\"color\":\"#2a3f5f\"}},\"annotationdefaults\":{\"arrowcolor\":\"#2a3f5f\",\"arrowhead\":0,\"arrowwidth\":1},\"geo\":{\"bgcolor\":\"white\",\"landcolor\":\"#E5ECF6\",\"subunitcolor\":\"white\",\"showland\":true,\"showlakes\":true,\"lakecolor\":\"white\"},\"title\":{\"x\":0.05},\"mapbox\":{\"style\":\"light\"}}},\"xaxis\":{\"anchor\":\"y\",\"domain\":[0.0,1.0],\"title\":{\"text\":\"timestamp\"}},\"yaxis\":{\"anchor\":\"x\",\"domain\":[0.0,1.0],\"title\":{\"text\":\"Bid\"}},\"legend\":{\"tracegroupgap\":0},\"margin\":{\"t\":60}},                        {\"responsive\": true}                    ).then(function(){\n",
       "                            \n",
       "var gd = document.getElementById('80c4ba60-d22c-4311-bc86-d16ee3260a84');\n",
       "var x = new MutationObserver(function (mutations, observer) {{\n",
       "        var display = window.getComputedStyle(gd).display;\n",
       "        if (!display || display === 'none') {{\n",
       "            console.log([gd, 'removed!']);\n",
       "            Plotly.purge(gd);\n",
       "            observer.disconnect();\n",
       "        }}\n",
       "}});\n",
       "\n",
       "// Listen for the removal of the full notebook cells\n",
       "var notebookContainer = gd.closest('#notebook-container');\n",
       "if (notebookContainer) {{\n",
       "    x.observe(notebookContainer, {childList: true});\n",
       "}}\n",
       "\n",
       "// Listen for the clearing of the current output cell\n",
       "var outputEl = gd.closest('.output');\n",
       "if (outputEl) {{\n",
       "    x.observe(outputEl, {childList: true});\n",
       "}}\n",
       "\n",
       "                        })                };                });            </script>        </div>"
      ]
     },
     "metadata": {},
     "output_type": "display_data"
    }
   ],
   "source": [
    "import plotly.express as px\n",
    "\n",
    "fig = px.line(obbtc, x='timestamp', y='Bid')\n",
    "fig.show()"
   ]
  },
  {
   "cell_type": "markdown",
   "id": "e0d8e524",
   "metadata": {},
   "source": []
  },
  {
   "cell_type": "code",
   "execution_count": null,
   "id": "d15e29da",
   "metadata": {},
   "outputs": [],
   "source": []
  }
 ],
 "metadata": {
  "kernelspec": {
   "display_name": "Python 3 (ipykernel)",
   "language": "python",
   "name": "python3"
  },
  "language_info": {
   "codemirror_mode": {
    "name": "ipython",
    "version": 3
   },
   "file_extension": ".py",
   "mimetype": "text/x-python",
   "name": "python",
   "nbconvert_exporter": "python",
   "pygments_lexer": "ipython3",
   "version": "3.9.7"
  }
 },
 "nbformat": 4,
 "nbformat_minor": 5
}
